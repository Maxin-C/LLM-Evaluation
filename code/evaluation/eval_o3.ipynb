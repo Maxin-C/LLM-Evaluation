{
 "cells": [
  {
   "cell_type": "code",
   "execution_count": 1,
   "metadata": {},
   "outputs": [],
   "source": [
    "import json\n",
    "from tqdm import tqdm\n",
    "from openai import OpenAI\n",
    "import re\n",
    "import time"
   ]
  },
  {
   "cell_type": "code",
   "execution_count": null,
   "metadata": {},
   "outputs": [],
   "source": [
    "def virtual_patient(msgs):\n",
    "    api_key = \"\"\n",
    "    base_url = \"\"\n",
    "\n",
    "    client = OpenAI(\n",
    "        api_key=api_key,\n",
    "        base_url=base_url\n",
    "    )\n",
    "\n",
    "    chat_completion = client.chat.completions.create(\n",
    "        messages=msgs,\n",
    "        model=\"deepseek-v3\",\n",
    "        temperature=0.1,\n",
    "        presence_penalty=0,\n",
    "        frequency_penalty=0,\n",
    "        top_p=1\n",
    "    )\n",
    "    return chat_completion"
   ]
  },
  {
   "cell_type": "code",
   "execution_count": null,
   "metadata": {},
   "outputs": [],
   "source": [
    "def dialogue_monitor(msgs):\n",
    "    api_key = \"\"\n",
    "    base_url = \"\"\n",
    "\n",
    "    client = OpenAI(\n",
    "        api_key=api_key,\n",
    "        base_url=base_url\n",
    "    )\n",
    "\n",
    "    chat_completion = client.chat.completions.create(\n",
    "        messages=msgs,\n",
    "        model=\"deepseek-v3\",\n",
    "        max_tokens=10,\n",
    "        temperature=0.1,\n",
    "        presence_penalty=0,\n",
    "        frequency_penalty=0,\n",
    "        top_p=1\n",
    "    )\n",
    "    return chat_completion"
   ]
  },
  {
   "cell_type": "code",
   "execution_count": null,
   "metadata": {},
   "outputs": [],
   "source": [
    "def doctor_o3(msgs):\n",
    "    api_key = \"\"\n",
    "    base_url = \"\"\n",
    "\n",
    "    client = OpenAI(\n",
    "        api_key=api_key,\n",
    "        base_url=base_url\n",
    "    )\n",
    "\n",
    "    chat_completion = client.chat.completions.create(\n",
    "        messages=msgs,\n",
    "        model=\"o3\",\n",
    "        temperature=0.1,\n",
    "        presence_penalty=0,\n",
    "        frequency_penalty=0,\n",
    "        top_p=1\n",
    "    )\n",
    "    return chat_completion"
   ]
  },
  {
   "cell_type": "code",
   "execution_count": 5,
   "metadata": {},
   "outputs": [],
   "source": [
    "def gen_group_chat_prompt(group_chat):\n",
    "    prompt = \"\"\n",
    "    for data in group_chat:\n",
    "        prompt += f\"{data['role']}:{data['content']}\\n\"\n",
    "    return prompt"
   ]
  },
  {
   "cell_type": "code",
   "execution_count": 6,
   "metadata": {},
   "outputs": [],
   "source": [
    "def gen_vp_prompt(vp_info):\n",
    "    prompt_list = []\n",
    "    for question in vp_info['question_list']:\n",
    "        prompt_list.append([vp_info['ehr_prompt'], \"\\n患者核心诉求：\" + json.dumps(question, ensure_ascii=False)])\n",
    "    return prompt_list"
   ]
  },
  {
   "cell_type": "code",
   "execution_count": 7,
   "metadata": {},
   "outputs": [],
   "source": [
    "vp_info = json.load(open('../../dataset/vp_info.json', 'r'))\n",
    "vp_prompt_list = []\n",
    "for data in vp_info:\n",
    "    vp_prompt_list.extend(gen_vp_prompt(data))"
   ]
  },
  {
   "cell_type": "code",
   "execution_count": 8,
   "metadata": {},
   "outputs": [],
   "source": [
    "group_chat = json.load(open('../../dataset/group_chat.json', 'r'))\n",
    "group_chat_prompt = gen_group_chat_prompt(group_chat[:1000])"
   ]
  },
  {
   "cell_type": "code",
   "execution_count": 9,
   "metadata": {},
   "outputs": [],
   "source": [
    "def get_recode(role, response, inference_time):\n",
    "    return {\n",
    "        \"role\": role,\n",
    "        \"content\": response.choices[0].message.content,\n",
    "        \"completion_tokens\": response.usage.completion_tokens,\n",
    "        \"prompt_tokens\": response.usage.prompt_tokens,\n",
    "        \"inference_time\": inference_time\n",
    "    }"
   ]
  },
  {
   "cell_type": "code",
   "execution_count": 18,
   "metadata": {},
   "outputs": [
    {
     "name": "stderr",
     "output_type": "stream",
     "text": [
      "  0%|          | 0/52 [00:00<?, ?it/s]"
     ]
    },
    {
     "name": "stderr",
     "output_type": "stream",
     "text": [
      "  2%|▏         | 1/52 [05:16<4:29:14, 316.75s/it]"
     ]
    },
    {
     "name": "stdout",
     "output_type": "stream",
     "text": [
      "Too many turns. Force to stop!\n"
     ]
    },
    {
     "name": "stderr",
     "output_type": "stream",
     "text": [
      "  4%|▍         | 2/52 [09:37<3:56:38, 283.96s/it]"
     ]
    },
    {
     "name": "stdout",
     "output_type": "stream",
     "text": [
      "Too many turns. Force to stop!\n"
     ]
    },
    {
     "name": "stderr",
     "output_type": "stream",
     "text": [
      " 12%|█▏        | 6/52 [23:18<3:00:48, 235.83s/it]"
     ]
    },
    {
     "name": "stdout",
     "output_type": "stream",
     "text": [
      "Too many turns. Force to stop!\n"
     ]
    },
    {
     "name": "stderr",
     "output_type": "stream",
     "text": [
      " 15%|█▌        | 8/52 [28:53<2:30:29, 205.22s/it]"
     ]
    },
    {
     "name": "stdout",
     "output_type": "stream",
     "text": [
      "Too many turns. Force to stop!\n"
     ]
    },
    {
     "name": "stderr",
     "output_type": "stream",
     "text": [
      " 17%|█▋        | 9/52 [32:21<2:27:36, 205.96s/it]"
     ]
    },
    {
     "name": "stdout",
     "output_type": "stream",
     "text": [
      "Too many turns. Force to stop!\n"
     ]
    },
    {
     "name": "stderr",
     "output_type": "stream",
     "text": [
      " 33%|███▎      | 17/52 [1:05:38<2:26:35, 251.29s/it]"
     ]
    },
    {
     "name": "stdout",
     "output_type": "stream",
     "text": [
      "Too many turns. Force to stop!\n"
     ]
    },
    {
     "name": "stderr",
     "output_type": "stream",
     "text": [
      " 35%|███▍      | 18/52 [1:13:31<3:00:10, 317.95s/it]"
     ]
    },
    {
     "name": "stdout",
     "output_type": "stream",
     "text": [
      "Too many turns. Force to stop!\n"
     ]
    },
    {
     "name": "stderr",
     "output_type": "stream",
     "text": [
      " 37%|███▋      | 19/52 [1:16:52<2:35:34, 282.86s/it]"
     ]
    },
    {
     "name": "stdout",
     "output_type": "stream",
     "text": [
      "Too many turns. Force to stop!\n"
     ]
    },
    {
     "name": "stderr",
     "output_type": "stream",
     "text": [
      " 46%|████▌     | 24/52 [1:34:09<1:54:23, 245.12s/it]"
     ]
    },
    {
     "name": "stdout",
     "output_type": "stream",
     "text": [
      "Too many turns. Force to stop!\n"
     ]
    },
    {
     "name": "stderr",
     "output_type": "stream",
     "text": [
      " 56%|█████▌    | 29/52 [1:53:50<1:36:40, 252.20s/it]"
     ]
    },
    {
     "name": "stdout",
     "output_type": "stream",
     "text": [
      "Too many turns. Force to stop!\n"
     ]
    },
    {
     "name": "stderr",
     "output_type": "stream",
     "text": [
      " 62%|██████▏   | 32/52 [2:14:38<1:59:46, 359.34s/it]"
     ]
    },
    {
     "name": "stdout",
     "output_type": "stream",
     "text": [
      "Too many turns. Force to stop!\n"
     ]
    },
    {
     "name": "stderr",
     "output_type": "stream",
     "text": [
      " 67%|██████▋   | 35/52 [2:25:00<1:15:24, 266.13s/it]"
     ]
    },
    {
     "name": "stdout",
     "output_type": "stream",
     "text": [
      "Too many turns. Force to stop!\n"
     ]
    },
    {
     "name": "stderr",
     "output_type": "stream",
     "text": [
      " 92%|█████████▏| 48/52 [3:09:01<14:19, 214.92s/it]  "
     ]
    },
    {
     "name": "stdout",
     "output_type": "stream",
     "text": [
      "Too many turns. Force to stop!\n"
     ]
    },
    {
     "name": "stderr",
     "output_type": "stream",
     "text": [
      " 96%|█████████▌| 50/52 [3:16:50<07:37, 228.85s/it]"
     ]
    },
    {
     "name": "stdout",
     "output_type": "stream",
     "text": [
      "Too many turns. Force to stop!\n"
     ]
    },
    {
     "name": "stderr",
     "output_type": "stream",
     "text": [
      "100%|██████████| 52/52 [3:25:38<00:00, 237.28s/it]\n"
     ]
    }
   ],
   "source": [
    "# recoder_list = []\n",
    "recoder_list = json.load(open('../../output/o3_conv.json', 'r'))\n",
    "\n",
    "for vp_prompt in tqdm(vp_prompt_list[len(recoder_list):]):\n",
    "    recoder = {\n",
    "        \"vp_prompt\": vp_prompt[0] + vp_prompt[1],\n",
    "        \"conversation\": []\n",
    "    }\n",
    "\n",
    "    dialogue_monitor_msgs = [{\n",
    "        \"role\": \"system\",\n",
    "        \"content\": \"你是一名对话内容审查员，功能是判断对话是否已经完成，你只需要输出True或False即可\"\n",
    "    },\n",
    "    {\n",
    "        \"role\": \"user\",\n",
    "        \"content\": vp_prompt[1] + \"请根据**患者的核心诉求**，判断下面对话中患者是否已经获取到了所有需要的信息，如果是则输出True，否则输出False，不需要输出其他内容。\"\n",
    "    },\n",
    "    {\n",
    "        \"role\": \"user\",\n",
    "        \"content\": \"对话内容：\"\n",
    "    }]\n",
    "\n",
    "    virtual_patient_msgs = [{\n",
    "        \"role\": \"system\",\n",
    "        \"content\": \"现在你是一名乳腺癌术后患者，你的患者信息和核心诉求在上述内容中已被明确定义。目前的场景为你正在群聊当中向医护人员寻求帮助。\"\n",
    "    },\n",
    "    {\n",
    "        \"role\": \"user\",\n",
    "        \"content\": f\"乳腺癌术后康复群群聊示例：\\n{group_chat_prompt}\\n\\n\" + vp_prompt[0] + vp_prompt[1] + \"现在你是一名乳腺癌术后患者，你的患者信息和核心诉求在上述内容中已被明确定义。目前的场景为你正在群聊当中向医护人员寻求帮助。请仿照'乳腺癌术后康复群群聊示例'中患者交流的方式，表达你的诉求。注意：每次只需要说出一个诉求，不一定要按顺序说出诉求，对话过程注意关联上下文和你的个人信息，尽可能能够对我说的话作出一些反馈。在满足核心诉求后可以礼貌结束对话。我将作为医生与你对话，你只需要扮演患者即可。\"\n",
    "    }\n",
    "    ]\n",
    "\n",
    "    doctor_msgs = [{\n",
    "        \"role\": \"system\",\n",
    "        \"content\": \"现在你是一名乳腺癌专科医师，你的患者在手术后联系你获取帮助，该患者的信息如下：\" + vp_prompt[0] + \"\\n请结合患者信息给出尽可能专业有效并且容易理解的反馈。\"\n",
    "    }]\n",
    "\n",
    "    count = 0\n",
    "\n",
    "    while 1:\n",
    "        # generate virtual patient's content\n",
    "        start_time = time.time()\n",
    "        vp_response = virtual_patient(virtual_patient_msgs)\n",
    "        end_time = time.time()\n",
    "        vp_content = vp_response.choices[0].message.content\n",
    "        recoder['conversation'].append(get_recode(\"virtual patient\", vp_response, end_time-start_time))\n",
    "        \n",
    "        dialogue_monitor_msgs[2]['content'] += f\"患者：{vp_content}\"\n",
    "        virtual_patient_msgs.append({\n",
    "            \"role\": \"assistant\",\n",
    "            \"content\": vp_content\n",
    "        })\n",
    "        doctor_msgs.append({\n",
    "            \"role\": \"user\",\n",
    "            \"content\": vp_content\n",
    "        })\n",
    "\n",
    "        # generate doctor's content\n",
    "        start_time = time.time()\n",
    "        doctor_response = doctor_o3(doctor_msgs)\n",
    "        end_time = time.time()\n",
    "        doctor_content = re.sub(r\"> Reasoning.*?Reasoned for a couple of seconds\", \"\", doctor_response.choices[0].message.content, flags=re.DOTALL)\n",
    "        recoder['conversation'].append(get_recode(\"doctor\", doctor_response, end_time-start_time))\n",
    "\n",
    "        dialogue_monitor_msgs[2]['content'] += f\"医生：{doctor_content}\"\n",
    "        virtual_patient_msgs.append({\n",
    "            \"role\": \"user\",\n",
    "            \"content\": doctor_content\n",
    "        })\n",
    "        doctor_msgs.append({\n",
    "            \"role\": \"assistant\",\n",
    "            \"content\": doctor_content\n",
    "        })\n",
    "\n",
    "        # decide whether stop conversation\n",
    "        monitor_response = dialogue_monitor(dialogue_monitor_msgs)\n",
    "        monitor_content = monitor_response.choices[0].message.content\n",
    "        if 'True' in monitor_content or 'true' in monitor_content:\n",
    "            recoder_list.append(recoder)\n",
    "            break\n",
    "        else:\n",
    "            count += 1\n",
    "            if count > 6:\n",
    "                print(\"Too many turns. Force to stop!\")\n",
    "                recoder_list.append(recoder)\n",
    "                break"
   ]
  },
  {
   "cell_type": "code",
   "execution_count": 19,
   "metadata": {},
   "outputs": [],
   "source": [
    "json.dump(recoder_list, open('../../output/o3_conv.json', 'w'), ensure_ascii=False)"
   ]
  },
  {
   "cell_type": "code",
   "execution_count": 20,
   "metadata": {},
   "outputs": [],
   "source": [
    "json.dump(recoder_list, open('../../output/o3_conv_raw.json', 'w'), ensure_ascii=False)"
   ]
  },
  {
   "cell_type": "code",
   "execution_count": 21,
   "metadata": {},
   "outputs": [
    {
     "name": "stdout",
     "output_type": "stream",
     "text": [
      "您好！您描述的术后伤口紧绷感和发麻是术后常见现象，目前无需过度担心，但需注意科学护理和观察。**\n",
      "\n",
      "### 一、症状原因解析\n",
      "1. **紧绷感**：  \n",
      "   - 与手术创面愈合直接相关。皮肤和深层组织修复时会产生瘢痕挛缩，一般术后3-6个月逐渐缓解。  \n",
      "   - *您的病理显示为IA期，术中清扫35枚淋巴结且无转移，说明手术范围较大，紧绷感可能更明显。*\n",
      "\n",
      "2. **发麻/针刺感**：  \n",
      "   - 术中可能影响胸壁或腋窝的皮神经（如肋间臂神经），导致暂时性感觉异常。  \n",
      "   - *您未出现脉管癌栓或神经侵犯，此症状多为可逆性，多数在3-12个月内改善。*\n",
      "\n",
      "---\n",
      "\n",
      "### 二、专业护理建议\n",
      "1. **伤口管理**  \n",
      "   - ✔️ **保持干燥清洁**：淋浴后用无菌纱布轻拍干燥，避免用力擦拭。  \n",
      "   - ✔️ **观察警示征象**：若出现红肿、渗液、发热或剧痛，需立即联系医生。  \n",
      "   - ❌ **避免刺激**：3个月内勿在伤口使用精油、酒精或过热敷贴。\n",
      "\n",
      "2. **缓解紧绷感**  \n",
      "   - 穿戴医用弹力胸衣（需主刀医生确认松紧度）。  \n",
      "   - 术后4周起可轻柔按摩瘢痕（沿伤口边缘由内向外打圈，每次5分钟，2次/日）。\n",
      "\n",
      "3. **神经恢复策略**  \n",
      "   - 口服甲钴胺（维生素B12衍生物）营养神经（需经主刀医生处方）。  \n",
      "   - 术后6周开始低频电刺激治疗（需康复科评估）。\n",
      "\n",
      "---\n",
      "\n",
      "### 三、康复时间轴与随访\n",
      "- **术后1-2周**：以肩关节前屈<90°的被动活动为主  \n",
      "- **术后3-6周**：逐步增加爬墙训练和梳头动作  \n",
      "- **术后3个月**：评估瘢痕挛缩情况，必要时使用硅酮凝胶辅料  \n",
      "- **术后6个月**：复查乳腺彩超时同步评估感觉恢复进展  \n",
      "\n",
      "---\n",
      "\n",
      "### 四、需警惕的特殊情况\n",
      "若出现以下情况请立即就医：  \n",
      "🔴 伤口突然渗液伴异味  \n",
      "🔴 上肢持续性肿胀或皮肤发红  \n",
      "🔴 麻木范围扩大至前臂  \n",
      "（您已完成腋窝淋巴结清扫，此类症状需排除淋巴水肿）\n",
      "\n",
      "---\n",
      "\n",
      "### 五、后续治疗衔接提醒\n",
      "1. **靶向治疗必要性**：  \n",
      "   您为Her2阳性（3+或FISH阳性），指南推荐术后1年内完成曲妥珠单抗靶向治疗。请与主治医生确认是否需补充该方案。\n",
      "\n",
      "2. **骨健康管理**：  \n",
      "   来曲唑可能导致骨密度下降，建议：  \n",
      "   - 每6个月检测维生素D水平  \n",
      "   - 每日补充钙剂600mg+维生素D3 800IU  \n",
      "   - 半年后行双能X线骨密度检测（DXA）\n",
      "\n",
      "---\n",
      "\n",
      "**建议本周返院复查时：**  \n",
      "① 请主刀医生触诊评估瘢痕柔韧性  \n",
      "② 开具乳腺癌术后专用功能评估量表  \n",
      "③ 预约康复科制定个性化训练计划  \n",
      "\n",
      "祝您康复顺利！如有其他不适请随时联系。\n",
      "\n",
      "--- \n",
      "\n",
      "**注：** 此回复基于国际乳腺癌指南（NCCN/ESMO）及中国抗癌协会乳腺癌诊疗规范，具体执行需经主刀医生确认。\n"
     ]
    }
   ],
   "source": [
    "print(\"您好！您描述的术后伤口紧绷感和发麻是术后常见现象，目前无需过度担心，但需注意科学护理和观察。**\\n\\n### 一、症状原因解析\\n1. **紧绷感**：  \\n   - 与手术创面愈合直接相关。皮肤和深层组织修复时会产生瘢痕挛缩，一般术后3-6个月逐渐缓解。  \\n   - *您的病理显示为IA期，术中清扫35枚淋巴结且无转移，说明手术范围较大，紧绷感可能更明显。*\\n\\n2. **发麻/针刺感**：  \\n   - 术中可能影响胸壁或腋窝的皮神经（如肋间臂神经），导致暂时性感觉异常。  \\n   - *您未出现脉管癌栓或神经侵犯，此症状多为可逆性，多数在3-12个月内改善。*\\n\\n---\\n\\n### 二、专业护理建议\\n1. **伤口管理**  \\n   - ✔️ **保持干燥清洁**：淋浴后用无菌纱布轻拍干燥，避免用力擦拭。  \\n   - ✔️ **观察警示征象**：若出现红肿、渗液、发热或剧痛，需立即联系医生。  \\n   - ❌ **避免刺激**：3个月内勿在伤口使用精油、酒精或过热敷贴。\\n\\n2. **缓解紧绷感**  \\n   - 穿戴医用弹力胸衣（需主刀医生确认松紧度）。  \\n   - 术后4周起可轻柔按摩瘢痕（沿伤口边缘由内向外打圈，每次5分钟，2次/日）。\\n\\n3. **神经恢复策略**  \\n   - 口服甲钴胺（维生素B12衍生物）营养神经（需经主刀医生处方）。  \\n   - 术后6周开始低频电刺激治疗（需康复科评估）。\\n\\n---\\n\\n### 三、康复时间轴与随访\\n- **术后1-2周**：以肩关节前屈<90°的被动活动为主  \\n- **术后3-6周**：逐步增加爬墙训练和梳头动作  \\n- **术后3个月**：评估瘢痕挛缩情况，必要时使用硅酮凝胶辅料  \\n- **术后6个月**：复查乳腺彩超时同步评估感觉恢复进展  \\n\\n---\\n\\n### 四、需警惕的特殊情况\\n若出现以下情况请立即就医：  \\n🔴 伤口突然渗液伴异味  \\n🔴 上肢持续性肿胀或皮肤发红  \\n🔴 麻木范围扩大至前臂  \\n（您已完成腋窝淋巴结清扫，此类症状需排除淋巴水肿）\\n\\n---\\n\\n### 五、后续治疗衔接提醒\\n1. **靶向治疗必要性**：  \\n   您为Her2阳性（3+或FISH阳性），指南推荐术后1年内完成曲妥珠单抗靶向治疗。请与主治医生确认是否需补充该方案。\\n\\n2. **骨健康管理**：  \\n   来曲唑可能导致骨密度下降，建议：  \\n   - 每6个月检测维生素D水平  \\n   - 每日补充钙剂600mg+维生素D3 800IU  \\n   - 半年后行双能X线骨密度检测（DXA）\\n\\n---\\n\\n**建议本周返院复查时：**  \\n① 请主刀医生触诊评估瘢痕柔韧性  \\n② 开具乳腺癌术后专用功能评估量表  \\n③ 预约康复科制定个性化训练计划  \\n\\n祝您康复顺利！如有其他不适请随时联系。\\n\\n--- \\n\\n**注：** 此回复基于国际乳腺癌指南（NCCN/ESMO）及中国抗癌协会乳腺癌诊疗规范，具体执行需经主刀医生确认。\")"
   ]
  }
 ],
 "metadata": {
  "kernelspec": {
   "display_name": "llm-eval",
   "language": "python",
   "name": "python3"
  },
  "language_info": {
   "codemirror_mode": {
    "name": "ipython",
    "version": 3
   },
   "file_extension": ".py",
   "mimetype": "text/x-python",
   "name": "python",
   "nbconvert_exporter": "python",
   "pygments_lexer": "ipython3",
   "version": "3.10.16"
  }
 },
 "nbformat": 4,
 "nbformat_minor": 2
}
