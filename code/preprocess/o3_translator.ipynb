{
 "cells": [
  {
   "cell_type": "code",
   "execution_count": null,
   "metadata": {},
   "outputs": [],
   "source": [
    "from openai import OpenAI\n",
    "import json\n",
    "from tqdm import tqdm"
   ]
  },
  {
   "cell_type": "code",
   "execution_count": null,
   "metadata": {},
   "outputs": [],
   "source": [
    "def translator(query):\n",
    "    api_key = \"\"\n",
    "    base_url = \"\"\n",
    "\n",
    "    client = OpenAI(\n",
    "        api_key=api_key,\n",
    "        base_url=base_url\n",
    "    )\n",
    "\n",
    "    chat_completion = client.chat.completions.create(\n",
    "        messages=[\n",
    "            {\n",
    "                \"role\": \"system\",\n",
    "                \"content\": \"请作为一个翻译软件，将输入的文字翻译为中文。\"\n",
    "            },\n",
    "            {\n",
    "                \"role\": \"user\",\n",
    "                \"content\": query\n",
    "            }\n",
    "        ],\n",
    "        model=\"deepseek-v3\",\n",
    "        max_tokens=1024,\n",
    "        temperature=0.1,\n",
    "        presence_penalty=0,\n",
    "        frequency_penalty=0,\n",
    "        top_p=1\n",
    "    )\n",
    "    return chat_completion.choices[0].message.content"
   ]
  },
  {
   "cell_type": "code",
   "execution_count": null,
   "metadata": {},
   "outputs": [],
   "source": [
    "dataset = json.load(open(\"../../output/o3_conv.json\", 'r'))\n",
    "for data in tqdm(dataset):\n",
    "    for conv in data['conversation']:\n",
    "        content = conv['content']\n",
    "        pattern = r\"> Reasoning(.*?)Reasoned for a couple of seconds\"\n",
    "        matches = re.findall(pattern, content, re.DOTALL)\n",
    "        if matches:\n",
    "            think_pattern = matches[0]\n",
    "            think_pattern = \">\" + translator(think_pattern)\n",
    "            conv['content'] = re.sub(pattern, think_pattern, content, flags=re.DOTALL)"
   ]
  },
  {
   "cell_type": "code",
   "execution_count": null,
   "metadata": {},
   "outputs": [],
   "source": [
    "json.dump(dataset, open(\"../../output/o3_conv_trans.json\", 'w'), ensure_ascii=False)"
   ]
  }
 ],
 "metadata": {
  "kernelspec": {
   "display_name": "llm-eval",
   "language": "python",
   "name": "python3"
  },
  "language_info": {
   "name": "python",
   "version": "3.10.16"
  }
 },
 "nbformat": 4,
 "nbformat_minor": 2
}
