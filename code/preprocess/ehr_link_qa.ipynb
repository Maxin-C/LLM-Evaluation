{
 "cells": [
  {
   "cell_type": "code",
   "execution_count": null,
   "metadata": {},
   "outputs": [],
   "source": [
    "import pandas as pd\n",
    "import numpy as np\n",
    "import json\n",
    "from tqdm import tqdm\n",
    "from openai import OpenAI\n",
    "import re"
   ]
  },
  {
   "cell_type": "code",
   "execution_count": null,
   "metadata": {},
   "outputs": [],
   "source": [
    "def get_ds_res(query):\n",
    "    api_key = \"\"\n",
    "    base_url = \"\"\n",
    "\n",
    "    client = OpenAI(\n",
    "        api_key=api_key,\n",
    "        base_url=base_url\n",
    "    )\n",
    "\n",
    "    chat_completion = client.chat.completions.create(\n",
    "        messages=[\n",
    "            {\n",
    "                \"role\": \"user\",\n",
    "                \"content\": query,\n",
    "            }\n",
    "        ],\n",
    "        model=\"deepseek-v3\",\n",
    "        temperature=0.5,\n",
    "        presence_penalty=0,\n",
    "        frequency_penalty=0,\n",
    "        top_p=1,\n",
    "        response_format={\n",
    "            'type': 'json_object'\n",
    "        }\n",
    "    )\n",
    "    return chat_completion.choices[0].message.content"
   ]
  },
  {
   "cell_type": "code",
   "execution_count": null,
   "metadata": {},
   "outputs": [],
   "source": [
    "def ehr2prompt(ehr):\n",
    "    column_names = ehr.columns.tolist()\n",
    "\n",
    "    prompt_list = []\n",
    "\n",
    "    for i in range(1, len(ehr)):\n",
    "        row_data = ehr.iloc[i].tolist()\n",
    "        ehr_prompt = \"患者信息：\"\n",
    "        row_data[0] = str(np.int32(row_data[0]))\n",
    "        for i in range(len(column_names)):\n",
    "            if isinstance(row_data[i], np.float64) or isinstance(row_data[i], np.int64):\n",
    "                if np.isnan(row_data[i]):\n",
    "                    row_data[i] = \"未知\"\n",
    "                else:\n",
    "                    row_data[i] = str(row_data[i])\n",
    "            if pd.isna(row_data[i]):\n",
    "                row_data[i] = \"未知\"\n",
    "            ehr_prompt += f\"{column_names[i]}：{row_data[i]}，\"\n",
    "        prompt_list.append(ehr_prompt)\n",
    "    return prompt_list"
   ]
  },
  {
   "cell_type": "code",
   "execution_count": null,
   "metadata": {},
   "outputs": [],
   "source": [
    "def qa2prompt(qa):\n",
    "    prompt = json.dumps(qa, ensure_ascii=False)\n",
    "    prompt = \"问题集：\" + prompt\n",
    "    return prompt"
   ]
  },
  {
   "cell_type": "code",
   "execution_count": null,
   "metadata": {},
   "outputs": [],
   "source": [
    "ehr = pd.read_excel(\"../../dataset/EHR.xlsx\")\n",
    "ehr_prompt_list = ehr2prompt(ehr)"
   ]
  },
  {
   "cell_type": "code",
   "execution_count": null,
   "metadata": {},
   "outputs": [],
   "source": [
    "summaried_qa = json.load(open(\"../../dataset/summaried_qa.json\", 'r'))\n",
    "qa_prompt = qa2prompt(summaried_qa)"
   ]
  },
  {
   "cell_type": "code",
   "execution_count": null,
   "metadata": {},
   "outputs": [],
   "source": [
    "result = []\n",
    "for ehr_prompt in tqdm(ehr_prompt_list):\n",
    "    prompt = ehr_prompt + '\\n'\n",
    "    prompt += qa_prompt + '\\n'\n",
    "    prompt += \"请根据'患者信息'，从'问题集'的'病情诊断'，'康复指导'和'心理干预'中挑选出最符合患者情况且最可能同时出现的问题各1条，构成一组患者问题集合。挑选10次，形成10组各不相同的患者问题集合并用json输出。\\n\"\n",
    "    prompt += '''EXAMPLE JSON OUTPUT:\n",
    "        [\n",
    "            ['病情诊断问题1', '康复指导问题1', '心理干预问题1'],\n",
    "            ['病情诊断问题2', '康复指导问题2', '心理干预问题2'],\n",
    "            ...\n",
    "            ['病情诊断问题10', '康复指导问题10', '心理干预问题10']\n",
    "        ]'''\n",
    "    result.append(get_ds_res(prompt))"
   ]
  },
  {
   "cell_type": "code",
   "execution_count": null,
   "metadata": {},
   "outputs": [],
   "source": [
    "vp_info = []\n",
    "for i in range(len(result)):\n",
    "    matchs = re.search(r\"```json(.*?)```\", result[i], re.DOTALL)\n",
    "    if matchs:\n",
    "        vp_info.append({\n",
    "            \"ehr_prompt\": ehr_prompt_list[i],\n",
    "            \"question_list\": json.loads(matchs.group(1))\n",
    "        })\n",
    "    else:\n",
    "        print(result[i])"
   ]
  },
  {
   "cell_type": "code",
   "execution_count": null,
   "metadata": {},
   "outputs": [],
   "source": [
    "with open('../../dataset/vp_info.json', 'w') as file:\n",
    "    json.dump(vp_info, file, ensure_ascii=False)"
   ]
  }
 ],
 "metadata": {
  "kernelspec": {
   "display_name": "llm-eval",
   "language": "python",
   "name": "python3"
  },
  "language_info": {
   "codemirror_mode": {
    "name": "ipython",
    "version": 3
   },
   "file_extension": ".py",
   "mimetype": "text/x-python",
   "name": "python",
   "nbconvert_exporter": "python",
   "pygments_lexer": "ipython3",
   "version": "3.10.16"
  }
 },
 "nbformat": 4,
 "nbformat_minor": 2
}
