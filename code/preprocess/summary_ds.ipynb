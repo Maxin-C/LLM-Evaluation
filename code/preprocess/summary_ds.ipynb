{
 "cells": [
  {
   "cell_type": "code",
   "execution_count": 36,
   "metadata": {},
   "outputs": [],
   "source": [
    "import re\n",
    "import requests\n",
    "from openai import OpenAI\n",
    "from tqdm import tqdm\n",
    "import json"
   ]
  },
  {
   "cell_type": "code",
   "execution_count": null,
   "metadata": {},
   "outputs": [],
   "source": [
    "def get_ds_res(query):\n",
    "    api_key = \"\"\n",
    "    base_url = \"\"\n",
    "\n",
    "    client = OpenAI(\n",
    "        api_key=api_key,\n",
    "        base_url=base_url\n",
    "    )\n",
    "\n",
    "    chat_completion = client.chat.completions.create(\n",
    "        messages=[\n",
    "            {\n",
    "                \"role\": \"user\",\n",
    "                \"content\": query,\n",
    "            }\n",
    "        ],\n",
    "        model=\"deepseek-v3\",\n",
    "        temperature=0.5,\n",
    "        presence_penalty=0,\n",
    "        frequency_penalty=0,\n",
    "        top_p=1,\n",
    "        response_format={\n",
    "            'type': 'json_object'\n",
    "        }\n",
    "    )\n",
    "    return chat_completion.choices[0].message.content"
   ]
  },
  {
   "cell_type": "code",
   "execution_count": 38,
   "metadata": {},
   "outputs": [
    {
     "name": "stdout",
     "output_type": "stream",
     "text": [
      "241\n"
     ]
    }
   ],
   "source": [
    "dataset = json.load(open(\"../../dataset/public_qa.json\", 'r'))\n",
    "dataset = dataset[:10000]\n",
    "input_list = []\n",
    "input_query = \"\"\n",
    "for data in dataset:\n",
    "    if len(input_query + data['input']) < 10000:\n",
    "        input_query = input_query + data['input'] + '\\n'\n",
    "    else:\n",
    "        input_list.append(input_query)\n",
    "        input_query = data['input']\n",
    "print(len(input_list))"
   ]
  },
  {
   "cell_type": "code",
   "execution_count": 39,
   "metadata": {},
   "outputs": [
    {
     "name": "stderr",
     "output_type": "stream",
     "text": [
      "100%|██████████| 241/241 [50:04<00:00, 12.47s/it]\n"
     ]
    }
   ],
   "source": [
    "results = []\n",
    "\n",
    "for data in tqdm(input_list):\n",
    "    query = f\"问答内容：{data}\"\n",
    "    query = '''请总结出以下问答内容中涉及病情诊断、康复指导和心理干预三个领域的问题，\n",
    "定义：\n",
    "病情诊断类问题：涉及患者对自身疾病状态的疑问，包括但不限于对手术结果、病理报告、复发风险、转移可能性、后续治疗方案（如放疗、化疗、内分泌治疗、靶向治疗）的理解和咨询。通常关注疾病的性质、范围、发展趋势以及预后。\n",
    "康复指导类问题：涉及患者在术后恢复过程中遇到的实际问题，包括但不限于伤口护理、疼痛管理、饮食营养、运动锻炼、淋巴水肿预防、日常生活调整等方面。通常关注如何改善身体功能、提高生活质量、减少并发症。\n",
    "心理干预类问题：涉及患者在患病和治疗过程中产生的心理困扰，包括但不限于焦虑、抑郁、恐惧、失眠、情绪波动、人际关系问题、性生活问题等方面。通常关注如何应对负面情绪、减轻心理压力、重建积极心态。\n",
    "注意：\n",
    "1.总结出的问题不应该包含患者个人信息\n",
    "2.问题内容需要足够简洁\n",
    "3.每个领域的问题不应该超过10个，如果超过10个就只保留出现频率最高的问题。\n",
    "EXAMPLE JSON OUTPUT:\n",
    "{\n",
    "    \"病情诊断\": \\[\n",
    "        'question1',\n",
    "        'question2',\n",
    "        ...\n",
    "    \\],\n",
    "    \"康复指导\": \\[\n",
    "        'question1',\n",
    "        'question2',\n",
    "        ...\n",
    "    \\],\n",
    "    \"心理干预\": \\[\n",
    "        'question1',\n",
    "        'question2',\n",
    "        ...\n",
    "    \\]\n",
    "}'''\n",
    "    response = get_ds_res(query)\n",
    "    results.append(response)"
   ]
  },
  {
   "cell_type": "code",
   "execution_count": 53,
   "metadata": {},
   "outputs": [],
   "source": [
    "results_json = []\n",
    "for data in results:\n",
    "    matchs = re.search(r\"```json(.*?)```\", data, re.DOTALL)\n",
    "    if matchs:\n",
    "        results_json.append(json.loads(matchs.group(1).replace(\"\\'\", \"\\\"\")))\n",
    "    else:\n",
    "        results_json.append(json.loads(data.replace(\"\\'\", \"\\\"\")))"
   ]
  },
  {
   "cell_type": "code",
   "execution_count": 56,
   "metadata": {},
   "outputs": [],
   "source": [
    "summaried_qa = {\"病情诊断\":[],\"康复指导\":[],\"心理干预\":[]}\n",
    "\n",
    "for _, key in enumerate(summaried_qa):\n",
    "    for data in results_json:\n",
    "        summaried_qa[key].extend(data[key])\n",
    "with open('../../dataset/summaried_qa.json', 'w') as file:\n",
    "    json.dump(summaried_qa, file, ensure_ascii=False)"
   ]
  },
  {
   "cell_type": "code",
   "execution_count": 26,
   "metadata": {},
   "outputs": [],
   "source": [
    "def summary_2(dataset, key):\n",
    "    input_list = []\n",
    "    input_query = \"\"\n",
    "    for data in dataset[key]:\n",
    "        if len(input_query + data) < 5000:\n",
    "            input_query = input_query + data + \"\\n\"\n",
    "        else:\n",
    "            input_list.append(input_query)\n",
    "            input_query = data + \"\\n\"\n",
    "    print(len(input_list))\n",
    "    results = []\n",
    "    for data in tqdm(input_list, desc=key):\n",
    "        query = f\"问答内容：{data}\"\n",
    "        query += f\"请将以上问答内容涉及{key}的信息进行总结。注意：总结出的问题不应该包含患者个人信息，问题要足够简洁，问题数量不能超过30个，问题内容必须与{key}相关！\"\n",
    "        query += '''EXAMPLE JSON OUTPUT:\n",
    "        [\n",
    "            \"question1\",\n",
    "            \"question2\",\n",
    "            ...\n",
    "        ]'''\n",
    "        response = get_ds_res(query)\n",
    "        try:\n",
    "            results.extend(json.loads(response))\n",
    "        except:\n",
    "            response = get_ds_res(query)\n",
    "            matchs = re.search(r\"```json(.*?)```\", response, re.DOTALL)\n",
    "            if matchs:\n",
    "                results.extend(json.loads(matchs.group(1)))\n",
    "            else:\n",
    "                print(response)\n",
    "    return results"
   ]
  },
  {
   "cell_type": "code",
   "execution_count": 21,
   "metadata": {},
   "outputs": [],
   "source": [
    "summaried_qa = json.load(open(\"../../dataset/summaried_qa.json\", 'r'))"
   ]
  },
  {
   "cell_type": "code",
   "execution_count": 27,
   "metadata": {},
   "outputs": [
    {
     "name": "stdout",
     "output_type": "stream",
     "text": [
      "25\n"
     ]
    },
    {
     "name": "stderr",
     "output_type": "stream",
     "text": [
      "病情诊断: 100%|██████████| 25/25 [11:54<00:00, 28.58s/it]\n"
     ]
    },
    {
     "name": "stdout",
     "output_type": "stream",
     "text": [
      "17\n"
     ]
    },
    {
     "name": "stderr",
     "output_type": "stream",
     "text": [
      "康复指导: 100%|██████████| 17/17 [07:53<00:00, 27.85s/it]\n"
     ]
    },
    {
     "name": "stdout",
     "output_type": "stream",
     "text": [
      "14\n"
     ]
    },
    {
     "name": "stderr",
     "output_type": "stream",
     "text": [
      "心理干预: 100%|██████████| 14/14 [06:38<00:00, 28.47s/it]\n"
     ]
    }
   ],
   "source": [
    "for _, key in enumerate(summaried_qa):\n",
    "    summaried_qa[key] = summary_2(summaried_qa, key)"
   ]
  },
  {
   "cell_type": "code",
   "execution_count": 33,
   "metadata": {},
   "outputs": [
    {
     "name": "stdout",
     "output_type": "stream",
     "text": [
      "729\n",
      "484\n",
      "380\n"
     ]
    }
   ],
   "source": [
    "for _, key in enumerate(summaried_qa):\n",
    "    summaried_qa[key] = list(set(summaried_qa[key]))\n",
    "    print(len(summaried_qa[key]))\n",
    "with open('../../dataset/summaried_qa_2.json', 'w') as file:\n",
    "    json.dump(summaried_qa, file, ensure_ascii=False)"
   ]
  }
 ],
 "metadata": {
  "kernelspec": {
   "display_name": "llm-eval",
   "language": "python",
   "name": "python3"
  },
  "language_info": {
   "codemirror_mode": {
    "name": "ipython",
    "version": 3
   },
   "file_extension": ".py",
   "mimetype": "text/x-python",
   "name": "python",
   "nbconvert_exporter": "python",
   "pygments_lexer": "ipython3",
   "version": "3.10.16"
  }
 },
 "nbformat": 4,
 "nbformat_minor": 2
}
