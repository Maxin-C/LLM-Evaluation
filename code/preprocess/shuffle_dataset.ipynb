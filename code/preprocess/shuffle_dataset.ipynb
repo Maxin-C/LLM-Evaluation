{
 "cells": [
  {
   "cell_type": "code",
   "execution_count": 2,
   "metadata": {},
   "outputs": [],
   "source": [
    "import random\n",
    "\n",
    "def divide_numbers(start, end, num_parts):\n",
    "    numbers = list(range(start, end + 1))\n",
    "    random.shuffle(numbers)  # 随机打乱数字顺序\n",
    "\n",
    "    part_size = len(numbers) // num_parts\n",
    "    remainder = len(numbers) % num_parts\n",
    "\n",
    "    result = []\n",
    "    start_index = 0\n",
    "    for i in range(num_parts):\n",
    "        end_index = start_index + part_size + (1 if i < remainder else 0)\n",
    "        result.append(numbers[start_index:end_index])\n",
    "        start_index = end_index\n",
    "\n",
    "    return result\n",
    "\n",
    "divided_numbers_r1 = divide_numbers(1, 100, 2)\n",
    "\n",
    "divided_numbers_o3 = divide_numbers(101, 200, 2)\n"
   ]
  },
  {
   "cell_type": "code",
   "execution_count": 3,
   "metadata": {},
   "outputs": [],
   "source": [
    "divided_numbers = divided_numbers_r1\n",
    "for i in range(2):\n",
    "    divided_numbers[i].extend(divided_numbers_o3[i])\n"
   ]
  },
  {
   "cell_type": "code",
   "execution_count": 4,
   "metadata": {},
   "outputs": [
    {
     "name": "stdout",
     "output_type": "stream",
     "text": [
      "[[37, 19, 29, 89, 76, 26, 28, 86, 31, 1, 99, 71, 23, 42, 48, 34, 47, 73, 77, 87, 49, 54, 91, 83, 94, 56, 74, 27, 21, 95, 18, 79, 9, 61, 58, 80, 62, 4, 30, 66, 39, 2, 64, 20, 96, 85, 14, 88, 68, 11, 183, 166, 129, 130, 108, 160, 143, 106, 112, 137, 126, 159, 175, 101, 110, 118, 153, 156, 131, 104, 147, 168, 125, 174, 114, 119, 120, 109, 133, 122, 169, 177, 134, 128, 136, 138, 180, 102, 105, 150, 113, 197, 179, 123, 187, 157, 152, 158, 127, 151], [60, 41, 3, 22, 15, 97, 84, 72, 13, 10, 35, 43, 55, 17, 75, 5, 45, 67, 63, 70, 12, 82, 36, 57, 78, 33, 53, 65, 32, 51, 69, 24, 100, 16, 93, 44, 50, 52, 46, 6, 59, 81, 92, 40, 25, 38, 90, 7, 98, 8, 163, 185, 115, 140, 176, 145, 146, 172, 165, 124, 132, 188, 193, 121, 161, 190, 142, 162, 148, 139, 192, 144, 111, 141, 196, 191, 186, 164, 155, 184, 167, 199, 171, 189, 182, 200, 178, 107, 195, 194, 117, 135, 103, 116, 181, 149, 170, 154, 198, 173]]\n"
     ]
    }
   ],
   "source": [
    "print(divided_numbers)\n",
    "import json\n",
    "json.dump(divided_numbers, open(\"../../output/groups.json\", 'w'))"
   ]
  }
 ],
 "metadata": {
  "kernelspec": {
   "display_name": "llm-eval",
   "language": "python",
   "name": "python3"
  },
  "language_info": {
   "codemirror_mode": {
    "name": "ipython",
    "version": 3
   },
   "file_extension": ".py",
   "mimetype": "text/x-python",
   "name": "python",
   "nbconvert_exporter": "python",
   "pygments_lexer": "ipython3",
   "version": "3.10.16"
  }
 },
 "nbformat": 4,
 "nbformat_minor": 2
}
