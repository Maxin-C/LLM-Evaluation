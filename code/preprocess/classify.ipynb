{
 "cells": [
  {
   "cell_type": "code",
   "execution_count": null,
   "metadata": {},
   "outputs": [],
   "source": [
    "import json\n",
    "import os\n",
    "from transformers import AutoModel, AutoModelForCausalLM, AutoTokenizer\n",
    "import torch\n",
    "import sys\n",
    "sys.path.append('/mnt/pvc-data.common/ChenZikang/codes/LLM-Evaluation/code')\n",
    "\n",
    "from model.eval_model import EvalQwen"
   ]
  },
  {
   "cell_type": "code",
   "execution_count": null,
   "metadata": {},
   "outputs": [],
   "source": [
    "class EvalQwen(EvalQwen):\n",
    "    def _gen_input(self, data):\n",
    "        query = f'''\n",
    "请作为一名乳腺癌专科医生，回答以下问题。\n",
    "请判断下面的内容属于病情诊断、干预建议和心理支持三类分类中的哪一类。\n",
    "如果属于病情诊断请输出1，属于干预建议请输出2，属于心理支持请输出3，不属于以上任何一类请输出0。\n",
    "注意：只需要输出1，2，3，0四个数字中的一个，不需要输出任何额外的内容！\n",
    "input: 【患者】{data['input']}【患者】【医生】{data['output']}【医生】\n",
    "output:\n",
    "'''\n",
    "        messages  = [{'role': 'user', 'content': query}]\n",
    "        return messages"
   ]
  },
  {
   "cell_type": "code",
   "execution_count": null,
   "metadata": {},
   "outputs": [],
   "source": [
    "device = \"cuda:1\"\n",
    "local_model_path = \"/mnt/pvc-data.common/ChenZikang/huggingface\""
   ]
  },
  {
   "cell_type": "code",
   "execution_count": null,
   "metadata": {},
   "outputs": [],
   "source": [
    "def eval_models(eval_model, dataset, batch_size, max_new_tokens, output_path):\n",
    "    if not os.path.exists(output_path):\n",
    "        os.makedirs(output_path)\n",
    "    eval_model.clear_pre_ref()\n",
    "    eval_model.inference_batch(dataset, batch_size=batch_size, max_new_tokens=max_new_tokens)\n",
    "    eval_model.save_pre_ref(output_path)"
   ]
  },
  {
   "cell_type": "code",
   "execution_count": null,
   "metadata": {},
   "outputs": [],
   "source": [
    "model = AutoModelForCausalLM.from_pretrained(f'{local_model_path}/Qwen/Qwen2.5-7B-Instruct', trust_remote_code=True, torch_dtype=torch.float16).to(device)\n",
    "tokenizer = AutoTokenizer.from_pretrained(f\"{local_model_path}/Qwen/Qwen2.5-7B-Instruct\", padding_side='left', trust_remote_code=True)"
   ]
  },
  {
   "cell_type": "code",
   "execution_count": null,
   "metadata": {},
   "outputs": [],
   "source": [
    "eval_qwen = EvalQwen(model=model, tokenizer=tokenizer, device=device)"
   ]
  },
  {
   "cell_type": "code",
   "execution_count": null,
   "metadata": {},
   "outputs": [],
   "source": [
    "dataset = json.load(open(\"../../dataset/public_qa.json\", 'r'))\n",
    "for data in dataset:\n",
    "    data['answer'] = ''\n",
    "dataset[0]"
   ]
  },
  {
   "cell_type": "code",
   "execution_count": null,
   "metadata": {},
   "outputs": [],
   "source": [
    "eval_models(eval_qwen, dataset, batch_size=12, max_new_tokens=8, output_path=\"../../outputs/qwen_class\")"
   ]
  },
  {
   "cell_type": "code",
   "execution_count": null,
   "metadata": {},
   "outputs": [],
   "source": [
    "dataset_classified = {\n",
    "    \"病情诊断\": [],\n",
    "    \"干预建议\": [],\n",
    "    \"心理支持\": []\n",
    "}\n",
    "for i in range(len(eval_qwen.predictions)):\n",
    "    if '1' in eval_qwen.predictions[i]:\n",
    "        dataset_classified['病情诊断'].append(dataset[i])\n",
    "    elif '2' in eval_qwen.predictions[i]:\n",
    "        dataset_classified['干预建议'].append(dataset[i])\n",
    "    elif '3' in eval_qwen.predictions[i]:\n",
    "        dataset_classified['心理支持'].append(dataset[i])\n",
    "\n",
    "json.dump(dataset_classified, open(\"../../dataset/public_qa_classified.json\", 'w'), ensure_ascii=False)"
   ]
  },
  {
   "cell_type": "code",
   "execution_count": null,
   "metadata": {},
   "outputs": [],
   "source": [
    "len(dataset_classified['心理支持'])"
   ]
  },
  {
   "cell_type": "code",
   "execution_count": null,
   "metadata": {},
   "outputs": [],
   "source": [
    "dataset_classified['心理支持'][1]"
   ]
  }
 ],
 "metadata": {
  "kernelspec": {
   "display_name": "llm-eval",
   "language": "python",
   "name": "python3"
  },
  "language_info": {
   "codemirror_mode": {
    "name": "ipython",
    "version": 3
   },
   "file_extension": ".py",
   "mimetype": "text/x-python",
   "name": "python",
   "nbconvert_exporter": "python",
   "pygments_lexer": "ipython3",
   "version": "3.10.16"
  }
 },
 "nbformat": 4,
 "nbformat_minor": 2
}
