{
 "cells": [
  {
   "cell_type": "code",
   "execution_count": null,
   "metadata": {},
   "outputs": [],
   "source": [
    "import json"
   ]
  },
  {
   "cell_type": "code",
   "execution_count": null,
   "metadata": {},
   "outputs": [],
   "source": [
    "dataset = json.load(open(\"../../output/groups.json\", 'r'))"
   ]
  },
  {
   "cell_type": "code",
   "execution_count": null,
   "metadata": {},
   "outputs": [],
   "source": [
    "survey = [\n",
    "'''大语言模型乳腺癌院外管理场景性能评估表 A\n",
    "\n",
    "**请根据患者基本信息以及多轮对话内容完成量表**''',\n",
    "'''大语言模型乳腺癌院外管理场景性能评估表 B\n",
    "\n",
    "**请根据患者基本信息以及多轮对话内容完成量表**'''\n",
    "]\n",
    "\n",
    "for i in range(len(dataset)):\n",
    "    for index in dataset[i]:\n",
    "        survey[i] += f\"\\n![{index}.png](https://m1887227.625354.xyz/conv_images/{index}.png)\"\n",
    "        \n",
    "        survey[i] += '''{auto,auto} 模型性能评估[矩阵量表题][必答](4分表示非常认同，0分表示非常不认同，分值越低表示越不认同)\n",
    "0~4\n",
    "是否认同模型回答能够容易地被非医学背景的读者理解并应用？\n",
    "是否认同模型的推理过程与临床推理逻辑保持一致？\n",
    "是否认同模型回答考虑到了患者特定的病理特征？\n",
    "是否认同模型回答存在误导性风险建议？\n",
    "是否认同模型回答考虑到了患者的情感需求？\n",
    "\n",
    "===分页==='''\n",
    "    suffix = \"===分页===\"\n",
    "    survey[i][:-len(suffix)]\n"
   ]
  },
  {
   "cell_type": "code",
   "execution_count": null,
   "metadata": {},
   "outputs": [],
   "source": [
    "json.dump(survey, open(\"../../output/survey.json\", 'w'), ensure_ascii=False)"
   ]
  },
  {
   "cell_type": "code",
   "execution_count": null,
   "metadata": {},
   "outputs": [],
   "source": [
    "print(survey[1])"
   ]
  }
 ],
 "metadata": {
  "kernelspec": {
   "display_name": "llm-eval",
   "language": "python",
   "name": "python3"
  },
  "language_info": {
   "codemirror_mode": {
    "name": "ipython",
    "version": 3
   },
   "file_extension": ".py",
   "mimetype": "text/x-python",
   "name": "python",
   "nbconvert_exporter": "python",
   "pygments_lexer": "ipython3",
   "version": "3.10.16"
  }
 },
 "nbformat": 4,
 "nbformat_minor": 2
}
